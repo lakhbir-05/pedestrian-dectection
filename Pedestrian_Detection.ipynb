{
  "cells": [
    {
      "cell_type": "markdown",
      "metadata": {
        "id": "view-in-github",
        "colab_type": "text"
      },
      "source": [
        "<a href=\"https://colab.research.google.com/github/lakhbir-05/pedestrian-dectection/blob/main/Pedestrian_Detection.ipynb\" target=\"_parent\"><img src=\"https://colab.research.google.com/assets/colab-badge.svg\" alt=\"Open In Colab\"/></a>"
      ]
    },
    {
      "cell_type": "markdown",
      "metadata": {
        "id": "ktOib6LBXr-j"
      },
      "source": [
        "## Mini Project # 6 - Car & Pedestrian Detection\n",
        "\n",
        "**NOTE**\n",
        "- If no video loads after running code, you may need to copy your *opencv_ffmpeg.dll*\n",
        "- From: *C:\\opencv2413\\opencv\\sources\\3rdparty\\ffmpeg*\n",
        "- To: Where your python is installed e.g. *C:\\Anaconda2\\* \\\n",
        "- Once it's copied you'll need to rename the file according to the version of OpenCV you're using.\n",
        "- e.g. if you're using OpenCV 2.4.13 then rename the file as:\n",
        "- **opencv_ffmpeg2413_64.dll** or opencv_ffmpeg2413.dll (if you're using an X86 machine)\n",
        "- **opencv_ffmpeg310_64.dll** or opencv_ffmpeg310.dll (if you're using an X86 machine)\n",
        "\n",
        "To find out where you python.exe is installed, just run these two lines of code:"
      ]
    },
    {
      "cell_type": "code",
      "execution_count": null,
      "metadata": {
        "id": "6gPODaTVXr-m",
        "outputId": "9fe81526-1208-4ceb-8d81-f1f8589a61d2",
        "colab": {
          "base_uri": "https://localhost:8080/"
        }
      },
      "outputs": [
        {
          "output_type": "stream",
          "name": "stdout",
          "text": [
            "/usr/bin/python3\n"
          ]
        }
      ],
      "source": [
        "import sys\n",
        "print(sys.executable)"
      ]
    },
    {
      "cell_type": "markdown",
      "metadata": {
        "id": "kY7yzGT1Xr-m"
      },
      "source": [
        "### Pedistrian Detection"
      ]
    },
    {
      "cell_type": "code",
      "source": [
        "import cv2\n",
        "import numpy as np\n",
        "import urllib.request\n",
        "from google.colab import files\n",
        "#cv2: The OpenCV library used for image/video processing.\n",
        "#numpy: Used for handling arrays (though not directly needed in this script).\n",
        "#urllib.request: Lets you download files from the internet (like videos and XML).\n",
        "#files: A Colab-specific module to let you download files from the notebook to your local computer.\n",
        "\n",
        "\n",
        "# Step 1: Download resources (only needed if not uploaded manually)\n",
        "urllib.request.urlretrieve(\"https://github.com/opencv/opencv/raw/master/samples/data/vtest.avi\", \"walking.avi\")\n",
        "#Downloads the sample video (vtest.avi) from GitHub and saves it as walking.avi.\n",
        "\n",
        "urllib.request.urlretrieve(\"https://github.com/opencv/opencv/raw/master/data/haarcascades/haarcascade_fullbody.xml\", \"haarcascade_fullbody.xml\")\n",
        "#Downloads the Haar cascade XML file used to detect full-body human shapes.\n",
        "\n",
        "\n",
        "\n",
        "# Step 2: Load classifier and video\n",
        "body_classifier = cv2.CascadeClassifier('haarcascade_fullbody.xml') #Loads the XML file which contains the trained Haar cascade for detecting full human bodies.\n",
        "\n",
        "cap = cv2.VideoCapture('walking.avi') #Opens the video file (walking.avi) so frames can be read and processed one by one.\n",
        "\n",
        "# Step 3: Set up video writer\n",
        "frame_width = int(cap.get(3) * 0.5)\n",
        "frame_height = int(cap.get(4) * 0.5)\n",
        "#Reads the original width (cap.get(3)) and height (cap.get(4)) of the video frames.\n",
        "\n",
        "#Multiplies them by 0.5 to resize frames to half size (for faster processing).\n",
        "\n",
        "out = cv2.VideoWriter('output.avi', cv2.VideoWriter_fourcc(*'XVID'), 20.0, (frame_width, frame_height))\n",
        "#Creates a VideoWriter object that writes the processed frames into a new file (output.avi).\n",
        "#'XVID': Codec used to encode the video.\n",
        "#20.0: Frames per second (FPS).\n",
        "#(frame_width, frame_height): Size of each output frame.\n",
        "\n",
        "# Step 4: Process video frame-by-frame\n",
        "while cap.isOpened(): #Runs a loop as long as the video file is opened and not finished.\n",
        "    ret, frame = cap.read()\n",
        "    if not ret:\n",
        "        break\n",
        "#Reads the next frame from the video.\n",
        "\n",
        "#ret is True if the frame was successfully read.\n",
        "\n",
        "    # Resize for faster processing\n",
        "    frame = cv2.resize(frame, (frame_width, frame_height)) #Resizes the frame to 50% of the original size.\n",
        "    gray = cv2.cvtColor(frame, cv2.COLOR_BGR2GRAY) #Converts the frame to grayscale because Haar cascades only work with grayscale images.\n",
        "\n",
        "    # Detect pedestrians\n",
        "    bodies = body_classifier.detectMultiScale(gray, 1.2, 3)\n",
        "   #Detects pedestrians in the grayscale frame.\n",
        "\n",
        "#1.2: Scale factor — how much the image is reduced at each scale.\n",
        "\n",
        "#3: Min neighbors — how many rectangles need to overlap for a detection to be valid.\n",
        "\n",
        "\n",
        "    # Draw rectangles\n",
        "    for (x, y, w, h) in bodies:\n",
        "        cv2.rectangle(frame, (x, y), (x + w, y + h), (0, 255, 255), 2)\n",
        "    #For each detected pedestrian (a bounding box with coordinates x, y, w, h), it draws a yellow rectangle around them.\n",
        "    # Save frame to output video\n",
        "    out.write(frame) #Saves the processed frame (with rectangles) to the output.avi file.\n",
        "\n",
        "\n",
        "\n",
        "cap.release()\n",
        "out.release()\n",
        "#Closes the video input (cap) and output (out) to free up resources.\n",
        "\n",
        "\n"
      ],
      "metadata": {
        "id": "4JwTmYwiVZq4"
      },
      "execution_count": 6,
      "outputs": []
    },
    {
      "cell_type": "markdown",
      "metadata": {
        "id": "iCa6iqrhXr-o"
      },
      "source": [
        "- **Full Body / Pedestrian Classifier ** - https://github.com/opencv/opencv/blob/master/data/haarcascades/haarcascade_fullbody.xml\n",
        "- **Car Classifier ** - http://www.codeforge.com/read/241845/cars3.xml__html\n"
      ]
    }
  ],
  "metadata": {
    "kernelspec": {
      "display_name": "Python 2",
      "language": "python",
      "name": "python2"
    },
    "language_info": {
      "codemirror_mode": {
        "name": "ipython",
        "version": 2
      },
      "file_extension": ".py",
      "mimetype": "text/x-python",
      "name": "python",
      "nbconvert_exporter": "python",
      "pygments_lexer": "ipython2",
      "version": "2.7.11"
    },
    "colab": {
      "provenance": [],
      "include_colab_link": true
    }
  },
  "nbformat": 4,
  "nbformat_minor": 0
}